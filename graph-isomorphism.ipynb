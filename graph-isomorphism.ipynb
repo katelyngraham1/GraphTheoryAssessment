{
 "cells": [
  {
   "cell_type": "markdown",
   "id": "47e94229",
   "metadata": {},
   "source": [
    "# Graph Isomorphism Problem \n",
    "***\n",
    "\n",
    "I will discuss the problems that arise with <b>Graph Isomorphism</b> within this Jupyter notebook. I will use the following headings to do so:\n",
    "\n",
    "- Explanation of the Graph Iomorphism Problem.\n",
    "- Explanation of how graphs can be represented in data structures.\n",
    "- Python function implementing an algorithm to determine if two graphs are isomorphic or not.\n",
    "- Discussion of the computational complexity of the Graph Isomorphism Problem"
   ]
  },
  {
   "cell_type": "markdown",
   "id": "46f72aa8",
   "metadata": {},
   "source": [
    "## Explanation\n",
    "\n",
    "The Graph Isomorphism problem can spot whether two graphs are the same graph in diguise. Most computer problems fall into one of two categories. <b>\"Easy problems\"</b> can be solved in a polynomial number of steps, if the number of steps grows as n <i>to the power of</i> 2 or n <i>to the power of</i> 3. These problems can usually be solved efficiently on a computer. <b>\"Hard problems\"</b>, best known algorithms take an exponential (such as 2 <i>to the power of</i> n) number of steps. This is far too many steps for a computer to carry out efficiently. Only a handful of natural problems, including graph isomorphism, seem to defy this dichotomy. Computer scientists have struggled for decades to figure out just where graph isomorphism belongs. [1]"
   ]
  },
  {
   "cell_type": "markdown",
   "id": "b80a11b1",
   "metadata": {},
   "source": [
    "Two graphs G1 and G2 are said to be isomorphic if:<br>\n",
    "- Their numbers of components (vertices and edges) are the same\n",
    "- Their edge connectivity is retained.\n",
    "<br>\n",
    "\n",
    "Simply, out of two graphs, one of the graphs is a tweaked version of the other. "
   ]
  },
  {
   "cell_type": "markdown",
   "id": "9978f770",
   "metadata": {},
   "source": [
    "# References\n",
    "***\n",
    "[1] https://www.quantamagazine.org/graph-isomorphism-strikes-back-20170105/#:~:text=The%20graph%20isomorphism%20problem%20asks,is%20hard%20to%20pin%20down.<br>\n",
    "\n"
   ]
  }
 ],
 "metadata": {
  "kernelspec": {
   "display_name": "Python 3 (ipykernel)",
   "language": "python",
   "name": "python3"
  },
  "language_info": {
   "codemirror_mode": {
    "name": "ipython",
    "version": 3
   },
   "file_extension": ".py",
   "mimetype": "text/x-python",
   "name": "python",
   "nbconvert_exporter": "python",
   "pygments_lexer": "ipython3",
   "version": "3.9.7"
  }
 },
 "nbformat": 4,
 "nbformat_minor": 5
}
